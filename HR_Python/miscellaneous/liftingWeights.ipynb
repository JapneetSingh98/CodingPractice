{
 "cells": [
  {
   "cell_type": "code",
   "execution_count": 15,
   "metadata": {},
   "outputs": [],
   "source": [
    "def weightCapacity(weights, maxCapacity):\n",
    "    weights.sort()\n",
    "    cur = 0\n",
    "    return helper(weights, maxCapacity, cur)"
   ]
  },
  {
   "cell_type": "code",
   "execution_count": 16,
   "metadata": {},
   "outputs": [],
   "source": [
    "def helper(weights, maxCapacity, cur):\n",
    "    if cur > maxCapacity:\n",
    "        return float('-inf')\n",
    "    elif len(weights) == 0:\n",
    "        return cur\n",
    "    else:\n",
    "        return max(helper(weights[1:], maxCapacity, cur+weights[0]), helper(weights[1:], maxCapacity, cur))"
   ]
  },
  {
   "cell_type": "code",
   "execution_count": 14,
   "metadata": {},
   "outputs": [
    {
     "name": "stdout",
     "output_type": "stream",
     "text": [
      "100\n"
     ]
    }
   ],
   "source": [
    "weights = [50, 40, 30, 6, 7, 3]\n",
    "maxCapacity = 100\n",
    "\n",
    "print(weightCapacity(weights, maxCapacity))"
   ]
  },
  {
   "cell_type": "code",
   "execution_count": null,
   "metadata": {},
   "outputs": [],
   "source": []
  }
 ],
 "metadata": {
  "kernelspec": {
   "display_name": "Python 3",
   "language": "python",
   "name": "python3"
  },
  "language_info": {
   "codemirror_mode": {
    "name": "ipython",
    "version": 3
   },
   "file_extension": ".py",
   "mimetype": "text/x-python",
   "name": "python",
   "nbconvert_exporter": "python",
   "pygments_lexer": "ipython3",
   "version": "3.8.5"
  }
 },
 "nbformat": 4,
 "nbformat_minor": 4
}
