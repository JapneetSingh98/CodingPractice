{
 "cells": [
  {
   "cell_type": "code",
   "execution_count": 17,
   "metadata": {},
   "outputs": [],
   "source": [
    "import random\n",
    "import time\n",
    "n = 100000\n",
    "l = 10000\n",
    "w = 10000\n",
    "\n",
    "cutoff = 500\n",
    "\n",
    "x = [random.randint(0, l) for i in range(n)]\n",
    "y = [random.randint(0, w) for i in range(n)]\n",
    "\n",
    "startTime = time.gmtime()"
   ]
  },
  {
   "cell_type": "code",
   "execution_count": 18,
   "metadata": {},
   "outputs": [],
   "source": [
    "def calculateMinSquaredDistance(x, y):\n",
    "    merged = [(x[i], y[i]) for i in range(len(x))]\n",
    "    merged.sort()\n",
    "    #print(merged)\n",
    "    return helper(merged)"
   ]
  },
  {
   "cell_type": "code",
   "execution_count": 19,
   "metadata": {},
   "outputs": [],
   "source": [
    "def helper(arr):\n",
    "    if len(arr) > cutoff:\n",
    "        left      = arr[:int(len(arr)/2)]\n",
    "        right     = arr[int(len(arr)/2):]\n",
    "        \n",
    "        leftMin   = helper(left)\n",
    "        rightMin  = helper(right)\n",
    "        sideMin   = min(leftMin, rightMin)\n",
    "        \n",
    "        center    = []\n",
    "        for i in reversed(left):\n",
    "            if i[0] >= arr[int(len(arr)/2)][0] - sideMin:\n",
    "                center.append(i)\n",
    "            else:\n",
    "                break\n",
    "        for i in right:\n",
    "            if i[0] <= arr[int(len(arr)/2)][0] + sideMin:\n",
    "                center.append(i)\n",
    "            else:\n",
    "                break\n",
    "        \n",
    "        centerMin = helper(center)\n",
    "        \n",
    "        return min(sideMin, centerMin)\n",
    "    \n",
    "    else:\n",
    "        shortest = float('inf')\n",
    "        for i in range(0, len(arr)-1):\n",
    "            for j in range(i+1, len(arr)):\n",
    "                dist = abs(arr[i][0] - arr[j][0])**2 + abs(arr[i][1] - arr[j][1])**2\n",
    "                if dist < shortest:\n",
    "                    shortest = dist\n",
    "                    #print(arr[i], arr[j])\n",
    "        return shortest\n",
    "        "
   ]
  },
  {
   "cell_type": "code",
   "execution_count": 20,
   "metadata": {},
   "outputs": [
    {
     "name": "stdout",
     "output_type": "stream",
     "text": [
      "time.struct_time(tm_year=2020, tm_mon=12, tm_mday=30, tm_hour=2, tm_min=35, tm_sec=37, tm_wday=2, tm_yday=365, tm_isdst=0)\n",
      "0\n",
      "time.struct_time(tm_year=2020, tm_mon=12, tm_mday=30, tm_hour=2, tm_min=35, tm_sec=57, tm_wday=2, tm_yday=365, tm_isdst=0)\n"
     ]
    }
   ],
   "source": [
    "print(startTime)\n",
    "print(calculateMinSquaredDistance(x,y))\n",
    "finishTime = time.gmtime()\n",
    "print(finishTime)"
   ]
  },
  {
   "cell_type": "code",
   "execution_count": null,
   "metadata": {},
   "outputs": [],
   "source": []
  }
 ],
 "metadata": {
  "kernelspec": {
   "display_name": "Python 3",
   "language": "python",
   "name": "python3"
  },
  "language_info": {
   "codemirror_mode": {
    "name": "ipython",
    "version": 3
   },
   "file_extension": ".py",
   "mimetype": "text/x-python",
   "name": "python",
   "nbconvert_exporter": "python",
   "pygments_lexer": "ipython3",
   "version": "3.8.5"
  }
 },
 "nbformat": 4,
 "nbformat_minor": 4
}
