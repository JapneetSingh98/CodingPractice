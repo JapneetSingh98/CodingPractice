{
 "cells": [
  {
   "cell_type": "code",
   "execution_count": 21,
   "metadata": {},
   "outputs": [],
   "source": [
    "def isValidSudoku(board):\n",
    "\n",
    "    # horizontal\n",
    "    for row in board:\n",
    "        used = []\n",
    "        for spot in row:\n",
    "            if spot in used:\n",
    "                return False\n",
    "            elif spot == \".\":\n",
    "                continue\n",
    "            else:\n",
    "                used.append(spot)\n",
    "    print(\"horizontal good\")\n",
    "\n",
    "    # vertical\n",
    "    for i in range(9):\n",
    "        used = []\n",
    "        for j in range(9):\n",
    "            if board[j][i] in used:\n",
    "                return False\n",
    "            elif board[j][i] == \".\":\n",
    "                continue\n",
    "            else:\n",
    "                used.append(board[j][i])\n",
    "    print(\"vertical good\")\n",
    "\n",
    "    # squares\n",
    "    for i in range(0, 9, 3):\n",
    "        for j in range(0, 9, 3):\n",
    "            used = []\n",
    "            for iStep in range(3):\n",
    "                for jStep in range(3):\n",
    "                    if board[i+iStep][j+jStep] in used:\n",
    "                        return False\n",
    "                    elif board[i+iStep][j+jStep] == \".\":\n",
    "                        continue\n",
    "                    else:\n",
    "                        used.append(board[i+iStep][j+jStep])\n",
    "    print(\"boxes good\")\n",
    "\n",
    "    return True"
   ]
  },
  {
   "cell_type": "code",
   "execution_count": 22,
   "metadata": {},
   "outputs": [
    {
     "name": "stdout",
     "output_type": "stream",
     "text": [
      "horizontal good\n",
      "vertical good\n",
      "boxes good\n"
     ]
    },
    {
     "data": {
      "text/plain": [
       "True"
      ]
     },
     "execution_count": 22,
     "metadata": {},
     "output_type": "execute_result"
    }
   ],
   "source": [
    "board = [[\"5\",\"3\",\".\",\".\",\"7\",\".\",\".\",\".\",\".\"],\n",
    "         [\"6\",\".\",\".\",\"1\",\"9\",\"5\",\".\",\".\",\".\"],\n",
    "         [\".\",\"9\",\"8\",\".\",\".\",\".\",\".\",\"6\",\".\"],\n",
    "         [\"8\",\".\",\".\",\".\",\"6\",\".\",\".\",\".\",\"3\"],\n",
    "         [\"4\",\".\",\".\",\"8\",\".\",\"3\",\".\",\".\",\"1\"],\n",
    "         [\"7\",\".\",\".\",\".\",\"2\",\".\",\".\",\".\",\"6\"],\n",
    "         [\".\",\"6\",\".\",\".\",\".\",\".\",\"2\",\"8\",\".\"],\n",
    "         [\".\",\".\",\".\",\"4\",\"1\",\"9\",\".\",\".\",\"5\"],\n",
    "         [\".\",\".\",\".\",\".\",\"8\",\".\",\".\",\"7\",\"9\"]]\n",
    "\n",
    "isValidSudoku(board)"
   ]
  },
  {
   "cell_type": "code",
   "execution_count": null,
   "metadata": {},
   "outputs": [],
   "source": []
  }
 ],
 "metadata": {
  "kernelspec": {
   "display_name": "Python 3",
   "language": "python",
   "name": "python3"
  },
  "language_info": {
   "codemirror_mode": {
    "name": "ipython",
    "version": 3
   },
   "file_extension": ".py",
   "mimetype": "text/x-python",
   "name": "python",
   "nbconvert_exporter": "python",
   "pygments_lexer": "ipython3",
   "version": "3.8.5"
  }
 },
 "nbformat": 4,
 "nbformat_minor": 4
}
